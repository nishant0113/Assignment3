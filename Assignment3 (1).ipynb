{
 "cells": [
  {
   "cell_type": "markdown",
   "id": "eac6e89f-751d-4827-b732-718de9f7212f",
   "metadata": {},
   "source": [
    "## offer letter"
   ]
  },
  {
   "cell_type": "code",
   "execution_count": 14,
   "id": "f825fdb6-7c31-4f4e-b4ce-62a1213a8d79",
   "metadata": {},
   "outputs": [
    {
     "name": "stdin",
     "output_type": "stream",
     "text": [
      "Enter the candidate's full name:  Nishant Raghuvanshi\n",
      "Enter the candidate's post or designation:  Python \n",
      "Enter the candidate's address:  Varanasi, Uttar Pradesh, 221002\n",
      "Enter the CTC offered:  12,00,000\n",
      "Enter the candidate's email:  nishantraghuvanshi614@gmail.com\n",
      "Enter the date of joining:  01-08-2025\n",
      "Enter the respective person's name(e.g., HR Manager):  Rohit Tyagi\n"
     ]
    }
   ],
   "source": [
    "#taking input\n",
    "\n",
    "full_name = input(\"Enter the candidate's full name: \")\n",
    "designation = input(\"Enter the candidate's post or designation: \")\n",
    "address = input(\"Enter the candidate's address: \")\n",
    "CTC = input(\"Enter the CTC offered: \")\n",
    "email = input(\"Enter the candidate's email: \")\n",
    "date_of_joining = input(\"Enter the date of joining: \")\n",
    "respective_person = input(\"Enter the respective person's name(e.g., HR Manager): \")\n",
    "\n",
    "\n",
    "offer_letter_content = f\"\"\"\n",
    "{address}\n",
    "\n",
    "dear{full_name},\n",
    "\n",
    "Subject: Offer of Employment for the position of {designation}\n",
    "\n",
    "We are delighted to extend this formal offer of employment to you for the position of {designation} at our organization. Based on your qualifications and the skills you demonstrated during the recruitment process, we are confident that you will be a valuable addition to our team.\n",
    "\n",
    "As discussed, your expected date of joining is {date_of_joining}. Your total compensation package will be {CTC}, which includes all salary components as per the company’s policy. Further details regarding your compensation will be provided in your employment contract.\n",
    "\n",
    "We expect you to bring your best efforts to help the company achieve its goals, and we are committed to supporting your professional growth during your time with us.\n",
    "\n",
    "Please confirm your acceptance of this offer by sending an email to {email} at your earliest convenience. Should you have any queries regarding this offer, feel free to reach out to us.\n",
    "\n",
    "We look forward to having you onboard and are excited about the great things we can accomplish together.\n",
    "\n",
    "Sincerely,\n",
    "\n",
    "{respective_person}\n",
    "HR Manager\n",
    "\"\"\"\n"
   ]
  },
  {
   "cell_type": "code",
   "execution_count": null,
   "id": "ecb1a0f9-396e-4043-952c-62fc64b76d91",
   "metadata": {},
   "outputs": [],
   "source": []
  }
 ],
 "metadata": {
  "kernelspec": {
   "display_name": "Python [conda env:base] *",
   "language": "python",
   "name": "conda-base-py"
  },
  "language_info": {
   "codemirror_mode": {
    "name": "ipython",
    "version": 3
   },
   "file_extension": ".py",
   "mimetype": "text/x-python",
   "name": "python",
   "nbconvert_exporter": "python",
   "pygments_lexer": "ipython3",
   "version": "3.13.5"
  }
 },
 "nbformat": 4,
 "nbformat_minor": 5
}
